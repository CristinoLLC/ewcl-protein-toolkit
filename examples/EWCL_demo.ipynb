# Example EWCL demo notebook

# Load PDB, run EWCL, and visualize
